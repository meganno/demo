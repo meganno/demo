{
 "cells": [
  {
   "cell_type": "code",
   "execution_count": 37,
   "id": "90d52f4a",
   "metadata": {
    "collapsed": true
   },
   "outputs": [
    {
     "name": "stdout",
     "output_type": "stream",
     "text": [
      "Collecting git+https://****@github.com/meganno/labeler-client.git\n",
      "  Cloning https://****@github.com/meganno/labeler-client.git to /private/var/folders/cq/3tgr3bys4tldx82sfkl8lyf40000gn/T/pip-req-build-q6_zv0nu\n",
      "  Running command git clone -q 'https://****@github.com/meganno/labeler-client.git' /private/var/folders/cq/3tgr3bys4tldx82sfkl8lyf40000gn/T/pip-req-build-q6_zv0nu\n",
      "  Resolved https://****@github.com/meganno/labeler-client.git to commit f3c6ee53ce0bcb39e76f0a73dc24b9e0531d2c28\n",
      "Collecting labeler-ui@ git+https://github.com/meganno/labeler-ui.git\n",
      "  Cloning https://github.com/meganno/labeler-ui.git to /private/var/folders/cq/3tgr3bys4tldx82sfkl8lyf40000gn/T/pip-install-hwi3e5mx/labeler-ui_2c1bb06ad0f24c44ab849984ea7f6a48\n",
      "  Running command git clone -q https://github.com/meganno/labeler-ui.git /private/var/folders/cq/3tgr3bys4tldx82sfkl8lyf40000gn/T/pip-install-hwi3e5mx/labeler-ui_2c1bb06ad0f24c44ab849984ea7f6a48\n",
      "  Resolved https://github.com/meganno/labeler-ui.git to commit 93ded581023f7a58bf39c5bc5fa2297c749cef5c\n",
      "Requirement already satisfied: requests==2.26.0 in /opt/miniconda3/envs/labeler/lib/python3.8/site-packages (from labeler-client==1.0.3) (2.26.0)\n",
      "Requirement already satisfied: urllib3==1.26.6 in /opt/miniconda3/envs/labeler/lib/python3.8/site-packages (from labeler-client==1.0.3) (1.26.6)\n",
      "Requirement already satisfied: importlib-metadata==4.12.0 in /opt/miniconda3/envs/labeler/lib/python3.8/site-packages (from labeler-client==1.0.3) (4.12.0)\n",
      "Requirement already satisfied: zipp>=0.5 in /opt/miniconda3/envs/labeler/lib/python3.8/site-packages (from importlib-metadata==4.12.0->labeler-client==1.0.3) (3.6.0)\n",
      "Requirement already satisfied: charset-normalizer~=2.0.0 in /opt/miniconda3/envs/labeler/lib/python3.8/site-packages (from requests==2.26.0->labeler-client==1.0.3) (2.0.7)\n",
      "Requirement already satisfied: idna<4,>=2.5 in /opt/miniconda3/envs/labeler/lib/python3.8/site-packages (from requests==2.26.0->labeler-client==1.0.3) (3.3)\n",
      "Requirement already satisfied: certifi>=2017.4.17 in /opt/miniconda3/envs/labeler/lib/python3.8/site-packages (from requests==2.26.0->labeler-client==1.0.3) (2021.10.8)\n",
      "Requirement already satisfied: idom==0.38.1 in /opt/miniconda3/envs/labeler/lib/python3.8/site-packages (from labeler-ui@ git+https://github.com/meganno/labeler-ui.git->labeler-client==1.0.3) (0.38.1)\n",
      "Requirement already satisfied: idom-jupyter==0.7.6 in /opt/miniconda3/envs/labeler/lib/python3.8/site-packages (from labeler-ui@ git+https://github.com/meganno/labeler-ui.git->labeler-client==1.0.3) (0.7.6)\n",
      "Requirement already satisfied: varname==0.8.1 in /opt/miniconda3/envs/labeler/lib/python3.8/site-packages (from labeler-ui@ git+https://github.com/meganno/labeler-ui.git->labeler-client==1.0.3) (0.8.1)\n",
      "Requirement already satisfied: mypy-extensions>=0.4.3 in /opt/miniconda3/envs/labeler/lib/python3.8/site-packages (from idom==0.38.1->labeler-ui@ git+https://github.com/meganno/labeler-ui.git->labeler-client==1.0.3) (0.4.3)\n",
      "Requirement already satisfied: anyio>=3 in /opt/miniconda3/envs/labeler/lib/python3.8/site-packages (from idom==0.38.1->labeler-ui@ git+https://github.com/meganno/labeler-ui.git->labeler-client==1.0.3) (3.4.0)\n",
      "Requirement already satisfied: fastjsonschema>=2.14.5 in /opt/miniconda3/envs/labeler/lib/python3.8/site-packages (from idom==0.38.1->labeler-ui@ git+https://github.com/meganno/labeler-ui.git->labeler-client==1.0.3) (2.15.1)\n",
      "Requirement already satisfied: jsonpatch>=1.32 in /opt/miniconda3/envs/labeler/lib/python3.8/site-packages (from idom==0.38.1->labeler-ui@ git+https://github.com/meganno/labeler-ui.git->labeler-client==1.0.3) (1.32)\n",
      "Requirement already satisfied: colorlog>=6 in /opt/miniconda3/envs/labeler/lib/python3.8/site-packages (from idom==0.38.1->labeler-ui@ git+https://github.com/meganno/labeler-ui.git->labeler-client==1.0.3) (6.6.0)\n",
      "Requirement already satisfied: typing-extensions>=3.10 in /opt/miniconda3/envs/labeler/lib/python3.8/site-packages (from idom==0.38.1->labeler-ui@ git+https://github.com/meganno/labeler-ui.git->labeler-client==1.0.3) (3.10.0.2)\n",
      "Requirement already satisfied: ipywidgets>=7.6.0 in /opt/miniconda3/envs/labeler/lib/python3.8/site-packages (from idom-jupyter==0.7.6->labeler-ui@ git+https://github.com/meganno/labeler-ui.git->labeler-client==1.0.3) (7.6.5)\n",
      "Requirement already satisfied: appdirs in /opt/miniconda3/envs/labeler/lib/python3.8/site-packages (from idom-jupyter==0.7.6->labeler-ui@ git+https://github.com/meganno/labeler-ui.git->labeler-client==1.0.3) (1.4.4)\n",
      "Requirement already satisfied: executing in /opt/miniconda3/envs/labeler/lib/python3.8/site-packages (from varname==0.8.1->labeler-ui@ git+https://github.com/meganno/labeler-ui.git->labeler-client==1.0.3) (0.8.3)\n",
      "Requirement already satisfied: pure_eval<1.0.0 in /opt/miniconda3/envs/labeler/lib/python3.8/site-packages (from varname==0.8.1->labeler-ui@ git+https://github.com/meganno/labeler-ui.git->labeler-client==1.0.3) (0.2.2)\n",
      "Requirement already satisfied: asttokens<3.0.0,>=2.0.0 in /opt/miniconda3/envs/labeler/lib/python3.8/site-packages (from varname==0.8.1->labeler-ui@ git+https://github.com/meganno/labeler-ui.git->labeler-client==1.0.3) (2.0.5)\n",
      "Requirement already satisfied: sniffio>=1.1 in /opt/miniconda3/envs/labeler/lib/python3.8/site-packages (from anyio>=3->idom==0.38.1->labeler-ui@ git+https://github.com/meganno/labeler-ui.git->labeler-client==1.0.3) (1.2.0)\n",
      "Requirement already satisfied: six in /opt/miniconda3/envs/labeler/lib/python3.8/site-packages (from asttokens<3.0.0,>=2.0.0->varname==0.8.1->labeler-ui@ git+https://github.com/meganno/labeler-ui.git->labeler-client==1.0.3) (1.16.0)\n",
      "Requirement already satisfied: ipython-genutils~=0.2.0 in /opt/miniconda3/envs/labeler/lib/python3.8/site-packages (from ipywidgets>=7.6.0->idom-jupyter==0.7.6->labeler-ui@ git+https://github.com/meganno/labeler-ui.git->labeler-client==1.0.3) (0.2.0)\n",
      "Requirement already satisfied: widgetsnbextension~=3.5.0 in /opt/miniconda3/envs/labeler/lib/python3.8/site-packages (from ipywidgets>=7.6.0->idom-jupyter==0.7.6->labeler-ui@ git+https://github.com/meganno/labeler-ui.git->labeler-client==1.0.3) (3.5.2)\n",
      "Requirement already satisfied: ipykernel>=4.5.1 in /opt/miniconda3/envs/labeler/lib/python3.8/site-packages (from ipywidgets>=7.6.0->idom-jupyter==0.7.6->labeler-ui@ git+https://github.com/meganno/labeler-ui.git->labeler-client==1.0.3) (6.5.1)\n",
      "Requirement already satisfied: nbformat>=4.2.0 in /opt/miniconda3/envs/labeler/lib/python3.8/site-packages (from ipywidgets>=7.6.0->idom-jupyter==0.7.6->labeler-ui@ git+https://github.com/meganno/labeler-ui.git->labeler-client==1.0.3) (5.1.3)\n",
      "Requirement already satisfied: ipython>=4.0.0 in /opt/miniconda3/envs/labeler/lib/python3.8/site-packages (from ipywidgets>=7.6.0->idom-jupyter==0.7.6->labeler-ui@ git+https://github.com/meganno/labeler-ui.git->labeler-client==1.0.3) (7.29.0)\n",
      "Requirement already satisfied: traitlets>=4.3.1 in /opt/miniconda3/envs/labeler/lib/python3.8/site-packages (from ipywidgets>=7.6.0->idom-jupyter==0.7.6->labeler-ui@ git+https://github.com/meganno/labeler-ui.git->labeler-client==1.0.3) (5.1.1)\n",
      "Requirement already satisfied: jupyterlab-widgets>=1.0.0 in /opt/miniconda3/envs/labeler/lib/python3.8/site-packages (from ipywidgets>=7.6.0->idom-jupyter==0.7.6->labeler-ui@ git+https://github.com/meganno/labeler-ui.git->labeler-client==1.0.3) (1.0.2)\n",
      "Requirement already satisfied: tornado<7.0,>=4.2 in /opt/miniconda3/envs/labeler/lib/python3.8/site-packages (from ipykernel>=4.5.1->ipywidgets>=7.6.0->idom-jupyter==0.7.6->labeler-ui@ git+https://github.com/meganno/labeler-ui.git->labeler-client==1.0.3) (6.1)\n",
      "Requirement already satisfied: matplotlib-inline<0.2.0,>=0.1.0 in /opt/miniconda3/envs/labeler/lib/python3.8/site-packages (from ipykernel>=4.5.1->ipywidgets>=7.6.0->idom-jupyter==0.7.6->labeler-ui@ git+https://github.com/meganno/labeler-ui.git->labeler-client==1.0.3) (0.1.3)\n",
      "Requirement already satisfied: jupyter-client<8.0 in /opt/miniconda3/envs/labeler/lib/python3.8/site-packages (from ipykernel>=4.5.1->ipywidgets>=7.6.0->idom-jupyter==0.7.6->labeler-ui@ git+https://github.com/meganno/labeler-ui.git->labeler-client==1.0.3) (7.1.0)\n",
      "Requirement already satisfied: appnope in /opt/miniconda3/envs/labeler/lib/python3.8/site-packages (from ipykernel>=4.5.1->ipywidgets>=7.6.0->idom-jupyter==0.7.6->labeler-ui@ git+https://github.com/meganno/labeler-ui.git->labeler-client==1.0.3) (0.1.2)\n",
      "Requirement already satisfied: debugpy<2.0,>=1.0.0 in /opt/miniconda3/envs/labeler/lib/python3.8/site-packages (from ipykernel>=4.5.1->ipywidgets>=7.6.0->idom-jupyter==0.7.6->labeler-ui@ git+https://github.com/meganno/labeler-ui.git->labeler-client==1.0.3) (1.5.1)\n",
      "Requirement already satisfied: prompt-toolkit!=3.0.0,!=3.0.1,<3.1.0,>=2.0.0 in /opt/miniconda3/envs/labeler/lib/python3.8/site-packages (from ipython>=4.0.0->ipywidgets>=7.6.0->idom-jupyter==0.7.6->labeler-ui@ git+https://github.com/meganno/labeler-ui.git->labeler-client==1.0.3) (3.0.22)\n",
      "Requirement already satisfied: decorator in /opt/miniconda3/envs/labeler/lib/python3.8/site-packages (from ipython>=4.0.0->ipywidgets>=7.6.0->idom-jupyter==0.7.6->labeler-ui@ git+https://github.com/meganno/labeler-ui.git->labeler-client==1.0.3) (5.1.0)\n",
      "Requirement already satisfied: setuptools>=18.5 in /opt/miniconda3/envs/labeler/lib/python3.8/site-packages (from ipython>=4.0.0->ipywidgets>=7.6.0->idom-jupyter==0.7.6->labeler-ui@ git+https://github.com/meganno/labeler-ui.git->labeler-client==1.0.3) (58.0.4)\n",
      "Requirement already satisfied: pygments in /opt/miniconda3/envs/labeler/lib/python3.8/site-packages (from ipython>=4.0.0->ipywidgets>=7.6.0->idom-jupyter==0.7.6->labeler-ui@ git+https://github.com/meganno/labeler-ui.git->labeler-client==1.0.3) (2.10.0)\n",
      "Requirement already satisfied: pexpect>4.3 in /opt/miniconda3/envs/labeler/lib/python3.8/site-packages (from ipython>=4.0.0->ipywidgets>=7.6.0->idom-jupyter==0.7.6->labeler-ui@ git+https://github.com/meganno/labeler-ui.git->labeler-client==1.0.3) (4.8.0)\n",
      "Requirement already satisfied: jedi>=0.16 in /opt/miniconda3/envs/labeler/lib/python3.8/site-packages (from ipython>=4.0.0->ipywidgets>=7.6.0->idom-jupyter==0.7.6->labeler-ui@ git+https://github.com/meganno/labeler-ui.git->labeler-client==1.0.3) (0.18.1)\n",
      "Requirement already satisfied: pickleshare in /opt/miniconda3/envs/labeler/lib/python3.8/site-packages (from ipython>=4.0.0->ipywidgets>=7.6.0->idom-jupyter==0.7.6->labeler-ui@ git+https://github.com/meganno/labeler-ui.git->labeler-client==1.0.3) (0.7.5)\n",
      "Requirement already satisfied: backcall in /opt/miniconda3/envs/labeler/lib/python3.8/site-packages (from ipython>=4.0.0->ipywidgets>=7.6.0->idom-jupyter==0.7.6->labeler-ui@ git+https://github.com/meganno/labeler-ui.git->labeler-client==1.0.3) (0.2.0)\n"
     ]
    },
    {
     "name": "stdout",
     "output_type": "stream",
     "text": [
      "Requirement already satisfied: parso<0.9.0,>=0.8.0 in /opt/miniconda3/envs/labeler/lib/python3.8/site-packages (from jedi>=0.16->ipython>=4.0.0->ipywidgets>=7.6.0->idom-jupyter==0.7.6->labeler-ui@ git+https://github.com/meganno/labeler-ui.git->labeler-client==1.0.3) (0.8.2)\n",
      "Requirement already satisfied: jsonpointer>=1.9 in /opt/miniconda3/envs/labeler/lib/python3.8/site-packages (from jsonpatch>=1.32->idom==0.38.1->labeler-ui@ git+https://github.com/meganno/labeler-ui.git->labeler-client==1.0.3) (2.2)\n",
      "Requirement already satisfied: jupyter-core>=4.6.0 in /opt/miniconda3/envs/labeler/lib/python3.8/site-packages (from jupyter-client<8.0->ipykernel>=4.5.1->ipywidgets>=7.6.0->idom-jupyter==0.7.6->labeler-ui@ git+https://github.com/meganno/labeler-ui.git->labeler-client==1.0.3) (4.9.1)\n",
      "Requirement already satisfied: nest-asyncio>=1.5 in /opt/miniconda3/envs/labeler/lib/python3.8/site-packages (from jupyter-client<8.0->ipykernel>=4.5.1->ipywidgets>=7.6.0->idom-jupyter==0.7.6->labeler-ui@ git+https://github.com/meganno/labeler-ui.git->labeler-client==1.0.3) (1.5.1)\n",
      "Requirement already satisfied: pyzmq>=13 in /opt/miniconda3/envs/labeler/lib/python3.8/site-packages (from jupyter-client<8.0->ipykernel>=4.5.1->ipywidgets>=7.6.0->idom-jupyter==0.7.6->labeler-ui@ git+https://github.com/meganno/labeler-ui.git->labeler-client==1.0.3) (22.3.0)\n",
      "Requirement already satisfied: python-dateutil>=2.1 in /opt/miniconda3/envs/labeler/lib/python3.8/site-packages (from jupyter-client<8.0->ipykernel>=4.5.1->ipywidgets>=7.6.0->idom-jupyter==0.7.6->labeler-ui@ git+https://github.com/meganno/labeler-ui.git->labeler-client==1.0.3) (2.8.2)\n",
      "Requirement already satisfied: entrypoints in /opt/miniconda3/envs/labeler/lib/python3.8/site-packages (from jupyter-client<8.0->ipykernel>=4.5.1->ipywidgets>=7.6.0->idom-jupyter==0.7.6->labeler-ui@ git+https://github.com/meganno/labeler-ui.git->labeler-client==1.0.3) (0.3)\n",
      "Requirement already satisfied: jsonschema!=2.5.0,>=2.4 in /opt/miniconda3/envs/labeler/lib/python3.8/site-packages (from nbformat>=4.2.0->ipywidgets>=7.6.0->idom-jupyter==0.7.6->labeler-ui@ git+https://github.com/meganno/labeler-ui.git->labeler-client==1.0.3) (4.2.1)\n",
      "Requirement already satisfied: importlib-resources>=1.4.0 in /opt/miniconda3/envs/labeler/lib/python3.8/site-packages (from jsonschema!=2.5.0,>=2.4->nbformat>=4.2.0->ipywidgets>=7.6.0->idom-jupyter==0.7.6->labeler-ui@ git+https://github.com/meganno/labeler-ui.git->labeler-client==1.0.3) (5.4.0)\n",
      "Requirement already satisfied: attrs>=17.4.0 in /opt/miniconda3/envs/labeler/lib/python3.8/site-packages (from jsonschema!=2.5.0,>=2.4->nbformat>=4.2.0->ipywidgets>=7.6.0->idom-jupyter==0.7.6->labeler-ui@ git+https://github.com/meganno/labeler-ui.git->labeler-client==1.0.3) (21.2.0)\n",
      "Requirement already satisfied: pyrsistent!=0.17.0,!=0.17.1,!=0.17.2,>=0.14.0 in /opt/miniconda3/envs/labeler/lib/python3.8/site-packages (from jsonschema!=2.5.0,>=2.4->nbformat>=4.2.0->ipywidgets>=7.6.0->idom-jupyter==0.7.6->labeler-ui@ git+https://github.com/meganno/labeler-ui.git->labeler-client==1.0.3) (0.18.0)\n",
      "Requirement already satisfied: ptyprocess>=0.5 in /opt/miniconda3/envs/labeler/lib/python3.8/site-packages (from pexpect>4.3->ipython>=4.0.0->ipywidgets>=7.6.0->idom-jupyter==0.7.6->labeler-ui@ git+https://github.com/meganno/labeler-ui.git->labeler-client==1.0.3) (0.7.0)\n",
      "Requirement already satisfied: wcwidth in /opt/miniconda3/envs/labeler/lib/python3.8/site-packages (from prompt-toolkit!=3.0.0,!=3.0.1,<3.1.0,>=2.0.0->ipython>=4.0.0->ipywidgets>=7.6.0->idom-jupyter==0.7.6->labeler-ui@ git+https://github.com/meganno/labeler-ui.git->labeler-client==1.0.3) (0.2.5)\n",
      "Requirement already satisfied: notebook>=4.4.1 in /opt/miniconda3/envs/labeler/lib/python3.8/site-packages (from widgetsnbextension~=3.5.0->ipywidgets>=7.6.0->idom-jupyter==0.7.6->labeler-ui@ git+https://github.com/meganno/labeler-ui.git->labeler-client==1.0.3) (6.4.6)\n",
      "Requirement already satisfied: Send2Trash>=1.8.0 in /opt/miniconda3/envs/labeler/lib/python3.8/site-packages (from notebook>=4.4.1->widgetsnbextension~=3.5.0->ipywidgets>=7.6.0->idom-jupyter==0.7.6->labeler-ui@ git+https://github.com/meganno/labeler-ui.git->labeler-client==1.0.3) (1.8.0)\n",
      "Requirement already satisfied: jinja2 in /opt/miniconda3/envs/labeler/lib/python3.8/site-packages (from notebook>=4.4.1->widgetsnbextension~=3.5.0->ipywidgets>=7.6.0->idom-jupyter==0.7.6->labeler-ui@ git+https://github.com/meganno/labeler-ui.git->labeler-client==1.0.3) (3.0.3)\n",
      "Requirement already satisfied: terminado>=0.8.3 in /opt/miniconda3/envs/labeler/lib/python3.8/site-packages (from notebook>=4.4.1->widgetsnbextension~=3.5.0->ipywidgets>=7.6.0->idom-jupyter==0.7.6->labeler-ui@ git+https://github.com/meganno/labeler-ui.git->labeler-client==1.0.3) (0.12.1)\n",
      "Requirement already satisfied: prometheus-client in /opt/miniconda3/envs/labeler/lib/python3.8/site-packages (from notebook>=4.4.1->widgetsnbextension~=3.5.0->ipywidgets>=7.6.0->idom-jupyter==0.7.6->labeler-ui@ git+https://github.com/meganno/labeler-ui.git->labeler-client==1.0.3) (0.12.0)\n",
      "Requirement already satisfied: nbconvert in /opt/miniconda3/envs/labeler/lib/python3.8/site-packages (from notebook>=4.4.1->widgetsnbextension~=3.5.0->ipywidgets>=7.6.0->idom-jupyter==0.7.6->labeler-ui@ git+https://github.com/meganno/labeler-ui.git->labeler-client==1.0.3) (6.3.0)\n",
      "Requirement already satisfied: argon2-cffi in /opt/miniconda3/envs/labeler/lib/python3.8/site-packages (from notebook>=4.4.1->widgetsnbextension~=3.5.0->ipywidgets>=7.6.0->idom-jupyter==0.7.6->labeler-ui@ git+https://github.com/meganno/labeler-ui.git->labeler-client==1.0.3) (21.1.0)\n",
      "Requirement already satisfied: cffi>=1.0.0 in /opt/miniconda3/envs/labeler/lib/python3.8/site-packages (from argon2-cffi->notebook>=4.4.1->widgetsnbextension~=3.5.0->ipywidgets>=7.6.0->idom-jupyter==0.7.6->labeler-ui@ git+https://github.com/meganno/labeler-ui.git->labeler-client==1.0.3) (1.15.0)\n",
      "Requirement already satisfied: pycparser in /opt/miniconda3/envs/labeler/lib/python3.8/site-packages (from cffi>=1.0.0->argon2-cffi->notebook>=4.4.1->widgetsnbextension~=3.5.0->ipywidgets>=7.6.0->idom-jupyter==0.7.6->labeler-ui@ git+https://github.com/meganno/labeler-ui.git->labeler-client==1.0.3) (2.21)\n",
      "Requirement already satisfied: MarkupSafe>=2.0 in /opt/miniconda3/envs/labeler/lib/python3.8/site-packages (from jinja2->notebook>=4.4.1->widgetsnbextension~=3.5.0->ipywidgets>=7.6.0->idom-jupyter==0.7.6->labeler-ui@ git+https://github.com/meganno/labeler-ui.git->labeler-client==1.0.3) (2.0.1)\n",
      "Requirement already satisfied: mistune<2,>=0.8.1 in /opt/miniconda3/envs/labeler/lib/python3.8/site-packages (from nbconvert->notebook>=4.4.1->widgetsnbextension~=3.5.0->ipywidgets>=7.6.0->idom-jupyter==0.7.6->labeler-ui@ git+https://github.com/meganno/labeler-ui.git->labeler-client==1.0.3) (0.8.4)\n",
      "Requirement already satisfied: testpath in /opt/miniconda3/envs/labeler/lib/python3.8/site-packages (from nbconvert->notebook>=4.4.1->widgetsnbextension~=3.5.0->ipywidgets>=7.6.0->idom-jupyter==0.7.6->labeler-ui@ git+https://github.com/meganno/labeler-ui.git->labeler-client==1.0.3) (0.5.0)\n",
      "Requirement already satisfied: jupyterlab-pygments in /opt/miniconda3/envs/labeler/lib/python3.8/site-packages (from nbconvert->notebook>=4.4.1->widgetsnbextension~=3.5.0->ipywidgets>=7.6.0->idom-jupyter==0.7.6->labeler-ui@ git+https://github.com/meganno/labeler-ui.git->labeler-client==1.0.3) (0.1.2)\n",
      "Requirement already satisfied: pandocfilters>=1.4.1 in /opt/miniconda3/envs/labeler/lib/python3.8/site-packages (from nbconvert->notebook>=4.4.1->widgetsnbextension~=3.5.0->ipywidgets>=7.6.0->idom-jupyter==0.7.6->labeler-ui@ git+https://github.com/meganno/labeler-ui.git->labeler-client==1.0.3) (1.5.0)\n",
      "Requirement already satisfied: bleach in /opt/miniconda3/envs/labeler/lib/python3.8/site-packages (from nbconvert->notebook>=4.4.1->widgetsnbextension~=3.5.0->ipywidgets>=7.6.0->idom-jupyter==0.7.6->labeler-ui@ git+https://github.com/meganno/labeler-ui.git->labeler-client==1.0.3) (4.1.0)\n",
      "Requirement already satisfied: defusedxml in /opt/miniconda3/envs/labeler/lib/python3.8/site-packages (from nbconvert->notebook>=4.4.1->widgetsnbextension~=3.5.0->ipywidgets>=7.6.0->idom-jupyter==0.7.6->labeler-ui@ git+https://github.com/meganno/labeler-ui.git->labeler-client==1.0.3) (0.7.1)\n",
      "Requirement already satisfied: nbclient<0.6.0,>=0.5.0 in /opt/miniconda3/envs/labeler/lib/python3.8/site-packages (from nbconvert->notebook>=4.4.1->widgetsnbextension~=3.5.0->ipywidgets>=7.6.0->idom-jupyter==0.7.6->labeler-ui@ git+https://github.com/meganno/labeler-ui.git->labeler-client==1.0.3) (0.5.9)\n"
     ]
    },
    {
     "name": "stdout",
     "output_type": "stream",
     "text": [
      "Requirement already satisfied: webencodings in /opt/miniconda3/envs/labeler/lib/python3.8/site-packages (from bleach->nbconvert->notebook>=4.4.1->widgetsnbextension~=3.5.0->ipywidgets>=7.6.0->idom-jupyter==0.7.6->labeler-ui@ git+https://github.com/meganno/labeler-ui.git->labeler-client==1.0.3) (0.5.1)\n",
      "Requirement already satisfied: packaging in /opt/miniconda3/envs/labeler/lib/python3.8/site-packages (from bleach->nbconvert->notebook>=4.4.1->widgetsnbextension~=3.5.0->ipywidgets>=7.6.0->idom-jupyter==0.7.6->labeler-ui@ git+https://github.com/meganno/labeler-ui.git->labeler-client==1.0.3) (21.3)\n",
      "Requirement already satisfied: pyparsing!=3.0.5,>=2.0.2 in /opt/miniconda3/envs/labeler/lib/python3.8/site-packages (from packaging->bleach->nbconvert->notebook>=4.4.1->widgetsnbextension~=3.5.0->ipywidgets>=7.6.0->idom-jupyter==0.7.6->labeler-ui@ git+https://github.com/meganno/labeler-ui.git->labeler-client==1.0.3) (3.0.6)\n"
     ]
    }
   ],
   "source": [
    "! pip install git+https://git@github.com/meganno/labeler-client.git"
   ]
  },
  {
   "cell_type": "code",
   "execution_count": 1,
   "id": "deadac1e",
   "metadata": {},
   "outputs": [
    {
     "name": "stdout",
     "output_type": "stream",
     "text": [
      "labeler-ui: 1.0.7\n",
      "labeler-client: 1.0.3\n"
     ]
    }
   ],
   "source": [
    "from labeler_ui import Authentication, Dashboard\n",
    "from labeler_client import Service\n",
    "import pandas as pd\n",
    "import os"
   ]
  },
  {
   "cell_type": "markdown",
   "id": "5401399a",
   "metadata": {},
   "source": [
    "# Connecting to the service\n",
    "We provide a shared project to simuliate the real-world collaboration among data science practitioners. This project is pre-loaded with a small set of [tweets about US airlines](https://www.kaggle.com/datasets/crowdflower/twitter-airline-sentiment). Required labeling schema and meta-data are also pre-loaded (shown as screen shots in later cells). Please do not change these setups.\n",
    "\n",
    "To start, connect to our service using one of our demo users's token. Note token sharing is for the demostration purposes only, and might cause potential overwrite of other's annotation. In real projects, each user own their unique token.\n",
    "\n",
    "**Run the cells below to connect to the demo project**"
   ]
  },
  {
   "cell_type": "code",
   "execution_count": null,
   "id": "a4598215",
   "metadata": {},
   "outputs": [],
   "source": []
  },
  {
   "cell_type": "code",
   "execution_count": 18,
   "id": "0b9924b1",
   "metadata": {},
   "outputs": [],
   "source": [
    "# getting demo token.\n",
    "demo_user_id=5 # choose between 1-5\n",
    "tokens = pd.read_csv('tokens.csv',index_col='id')\n",
    "demo_token = tokens.loc[demo_user_id,'token'] "
   ]
  },
  {
   "cell_type": "code",
   "execution_count": 19,
   "id": "36f7429b",
   "metadata": {},
   "outputs": [],
   "source": [
    "# connecting to service\n",
    "demo = Service(project='development',token=demo_token,\n",
    "               host='http://labeler-demo-service-alb-1400746965.us-west-1.elb.amazonaws.com')"
   ]
  },
  {
   "cell_type": "markdown",
   "id": "913cb2bd",
   "metadata": {},
   "source": [
    "# View label schema\n",
    "Here the schema is pre-set to collect one label named *sentiment* which corresponds to a classification task and a label named *sp* which correponds to an extraction task (selecting spans out of a document).\n",
    "\n",
    "**Run the cell below to check the schema**"
   ]
  },
  {
   "cell_type": "code",
   "execution_count": 7,
   "id": "61163579",
   "metadata": {},
   "outputs": [
    {
     "data": {
      "text/plain": [
       "[{'active': True,\n",
       "  'created_on': 1670461487394,\n",
       "  'schemas': {'label_schema': [{'level': 'record',\n",
       "     'name': 'sentiment',\n",
       "     'options': [{'text': 'positive', 'value': 'pos'},\n",
       "      {'text': 'negative', 'value': 'neg'},\n",
       "      {'text': 'neutral', 'value': 'neu'}]},\n",
       "    {'level': 'span_ch',\n",
       "     'name': 'sp',\n",
       "     'options': [{'text': 'positive', 'value': 'pos'},\n",
       "      {'text': 'negative', 'value': 'neg'}]}]},\n",
       "  'uuid': '362a4d4e-270e-47a8-b533-203636654cd7'}]"
      ]
     },
     "execution_count": 7,
     "metadata": {},
     "output_type": "execute_result"
    }
   ],
   "source": [
    "# view the pre-set demo schema\n",
    "demo.get_schemas().value(active=True)"
   ]
  },
  {
   "cell_type": "markdown",
   "id": "880ce9e3",
   "metadata": {},
   "source": [
    "# Try annotating\n",
    "\n",
    "Here we show the basic annoation widget.\n",
    "\n",
    "**Run the cell below to bring up the widget to annotate the first 10 examples**\n",
    "You can switch between the *single* and *table* view on the top-right corner. Switch back to the table view, check the top checkbox on the second column and click **submit** button on the top-left corner to send your annotations to the backend. \n",
    "\n",
    "You can also click the *Annotating* button with a dropdown on the top-right corner to switch between annotation and reconciling mode. In the reconciling mode, you could look over distributions of existing annotations from all annotators and resolve conflicts.\n",
    "\n",
    "(Note some data might already have annotations if someone else sharing the same token already annotated the data point.)"
   ]
  },
  {
   "cell_type": "code",
   "execution_count": 22,
   "id": "f5fdf26a",
   "metadata": {},
   "outputs": [
    {
     "data": {
      "text/plain": [
       "show(7f9207936820, self=<labeler_ui.widgets.Annotation.Annotation object at 0x7f92078e5c10>)"
      ]
     },
     "execution_count": 22,
     "metadata": {},
     "output_type": "execute_result"
    },
    {
     "data": {
      "application/vnd.jupyter.widget-view+json": {
       "model_id": "e583579e25e0420c880c40976a4d7eb3",
       "version_major": 2,
       "version_minor": 0
      },
      "text/plain": [
       "LayoutWidget(Layout(show(7f9207936820, self=<labeler_ui.widgets.Annotation.Annotation object at 0x7f92078e5c10…"
      ]
     },
     "metadata": {},
     "output_type": "display_data"
    }
   ],
   "source": [
    "# search results => subset s1\n",
    "s1 = demo.search(keyword='', limit=10, start=0)\n",
    "# bring up a widget \n",
    "s1.show({'view':'table'})"
   ]
  },
  {
   "cell_type": "code",
   "execution_count": null,
   "id": "731a9e21",
   "metadata": {},
   "outputs": [],
   "source": []
  },
  {
   "attachments": {},
   "cell_type": "markdown",
   "id": "beb4539b",
   "metadata": {},
   "source": [
    "# Show contexual data\n",
    "There are cases when contextual information could help or speed up the annotatin process. Here we demonstrate with a pre-loaded \"hashtag\" metadata, which was generated using the code shown in this screenshot:\n",
    "![generating the hashtag meta-data](Figures/hashtag.png)\n",
    "\n",
    "In real projects, the metadata could be generated using user-defined functions, like in the screenshot.\n",
    "\n",
    "**Run the cell below to see how hashtags are shown as auxiliary information**"
   ]
  },
  {
   "cell_type": "code",
   "execution_count": 20,
   "id": "458c0922",
   "metadata": {},
   "outputs": [
    {
     "data": {
      "text/plain": [
       "show(7f92056f6340, self=<labeler_ui.widgets.Annotation.Annotation object at 0x7f92078e5d00>)"
      ]
     },
     "execution_count": 20,
     "metadata": {},
     "output_type": "execute_result"
    },
    {
     "data": {
      "application/vnd.jupyter.widget-view+json": {
       "model_id": "eab58c8dd59b40c9aea55c4b55cc8206",
       "version_major": 2,
       "version_minor": 0
      },
      "text/plain": [
       "LayoutWidget(Layout(show(7f92056f6340, self=<labeler_ui.widgets.Annotation.Annotation object at 0x7f92078e5d00…"
      ]
     },
     "metadata": {},
     "output_type": "display_data"
    }
   ],
   "source": [
    "s2= demo.search(keyword='delay',\n",
    "                  limit=50,\n",
    "                  start=0, \n",
    "                  meta_names=['hashtag'])\n",
    "s2.show()\n",
    "#hover over in the table view to see the hashtage for each data ponint."
   ]
  },
  {
   "cell_type": "markdown",
   "id": "54382730",
   "metadata": {},
   "source": [
    "# Exploratory annotation: heuristic-based search"
   ]
  },
  {
   "cell_type": "code",
   "execution_count": 26,
   "id": "95c75f81",
   "metadata": {},
   "outputs": [
    {
     "data": {
      "text/plain": [
       "show(7f9207c96160, self=<labeler_ui.widgets.Annotation.Annotation object at 0x7f920795aac0>)"
      ]
     },
     "execution_count": 26,
     "metadata": {},
     "output_type": "execute_result"
    },
    {
     "data": {
      "application/vnd.jupyter.widget-view+json": {
       "model_id": "7b989c535ae04096aa7dbe5308a73381",
       "version_major": 2,
       "version_minor": 0
      },
      "text/plain": [
       "LayoutWidget(Layout(show(7f9207c96160, self=<labeler_ui.widgets.Annotation.Annotation object at 0x7f920795aac0…"
      ]
     },
     "metadata": {},
     "output_type": "display_data"
    }
   ],
   "source": [
    "s3= demo.search(keyword='fail',\n",
    "                  limit=50,\n",
    "                  start=0)\n",
    "s3.show({'view':'table'})"
   ]
  },
  {
   "attachments": {},
   "cell_type": "markdown",
   "id": "b8304ff7",
   "metadata": {},
   "source": [
    "# Exploratory annotation: similarity-based suggestions \n",
    "In addition to relying on user's heuristic, meganno also provide automated suggestions, based on all kinds of metadata. Here we give an example using sentence bert embeddings. The embeddings have been generated ahead of time using the script shown in the screenshot below:\n",
    "\n",
    "![generating bert embedding](./Figures/bert.png)\n",
    "Based on the embedding, suggest the most similar datapoints from the database.\n",
    "\n",
    "In real projects, users can bring\n",
    "*Try Below*"
   ]
  },
  {
   "cell_type": "code",
   "execution_count": 54,
   "id": "32006fa8",
   "metadata": {},
   "outputs": [
    {
     "data": {
      "text/plain": [
       "show(7fd706ed9a00, self=<labeler_ui.widgets.Annotation.Annotation object at 0x7fd7162753d0>)"
      ]
     },
     "execution_count": 54,
     "metadata": {},
     "output_type": "execute_result"
    },
    {
     "data": {
      "application/vnd.jupyter.widget-view+json": {
       "model_id": "8aac443c1f684abca5ec47ad5c21b37c",
       "version_major": 2,
       "version_minor": 0
      },
      "text/plain": [
       "LayoutWidget(Layout(show(7fd706ed9a00, self=<labeler_ui.widgets.Annotation.Annotation object at 0x7fd7162753d0…"
      ]
     },
     "metadata": {},
     "output_type": "display_data"
    }
   ],
   "source": [
    "s4 = demo.search(keyword='delay', limit=3, start=0)\n",
    "# try replacing the keyword here to test the similarity search \n",
    "s5 = s4.suggest_similar('bert-embedding', limit=4)# needs to provide a valid meta_name\n",
    "s5.show()"
   ]
  },
  {
   "cell_type": "markdown",
   "id": "92a81124",
   "metadata": {},
   "source": [
    "# Analysis Dashboard to track project progress.\n",
    "At any stage of the project, you can run the cell below to track the progress of all annnotators, look at class distibutions, etc"
   ]
  },
  {
   "cell_type": "code",
   "execution_count": 21,
   "id": "746dc1f9",
   "metadata": {},
   "outputs": [
    {
     "data": {
      "text/plain": [
       "show(7f9206098d60, self=<labeler_ui.widgets.Dashboard.Dashboard object at 0x7f9207c66a90>)"
      ]
     },
     "execution_count": 21,
     "metadata": {},
     "output_type": "execute_result"
    },
    {
     "data": {
      "application/vnd.jupyter.widget-view+json": {
       "model_id": "945d0e9655b749fa9b6d117b98533382",
       "version_major": 2,
       "version_minor": 0
      },
      "text/plain": [
       "LayoutWidget(Layout(show(7f9206098d60, self=<labeler_ui.widgets.Dashboard.Dashboard object at 0x7f9207c66a90>)…"
      ]
     },
     "metadata": {},
     "output_type": "display_data"
    }
   ],
   "source": [
    "#Analysis\n",
    "from labeler_ui import Dashboard\n",
    "dash_wg = Dashboard(demo)\n",
    "dash_wg.show()\n"
   ]
  },
  {
   "cell_type": "code",
   "execution_count": 63,
   "id": "872a8b9e",
   "metadata": {},
   "outputs": [
    {
     "data": {
      "text/html": [
       "<div>\n",
       "<style scoped>\n",
       "    .dataframe tbody tr th:only-of-type {\n",
       "        vertical-align: middle;\n",
       "    }\n",
       "\n",
       "    .dataframe tbody tr th {\n",
       "        vertical-align: top;\n",
       "    }\n",
       "\n",
       "    .dataframe thead th {\n",
       "        text-align: right;\n",
       "    }\n",
       "</style>\n",
       "<table border=\"1\" class=\"dataframe\">\n",
       "  <thead>\n",
       "    <tr style=\"text-align: right;\">\n",
       "      <th></th>\n",
       "      <th>data_id</th>\n",
       "      <th>content</th>\n",
       "      <th>annotator</th>\n",
       "      <th>label_name</th>\n",
       "      <th>label_value</th>\n",
       "    </tr>\n",
       "  </thead>\n",
       "  <tbody>\n",
       "    <tr>\n",
       "      <th>0</th>\n",
       "      <td>567840103122509760</td>\n",
       "      <td>@USAirways UR service is so shitty. Pilot neve...</td>\n",
       "      <td>demo-1668825955</td>\n",
       "      <td>sentiment</td>\n",
       "      <td>[neg]</td>\n",
       "    </tr>\n",
       "    <tr>\n",
       "      <th>1</th>\n",
       "      <td>567840732305858560</td>\n",
       "      <td>@SouthwestAir Being old I will miss my connect...</td>\n",
       "      <td>demo-1668825955</td>\n",
       "      <td>sentiment</td>\n",
       "      <td>[neg]</td>\n",
       "    </tr>\n",
       "    <tr>\n",
       "      <th>2</th>\n",
       "      <td>567842015418978304</td>\n",
       "      <td>@united my flight was at 1 pm. Still at the ai...</td>\n",
       "      <td>demo-1668825955</td>\n",
       "      <td>sentiment</td>\n",
       "      <td>[neg]</td>\n",
       "    </tr>\n",
       "    <tr>\n",
       "      <th>3</th>\n",
       "      <td>567847571223388160</td>\n",
       "      <td>@SouthwestAir what's up with these delays?! Th...</td>\n",
       "      <td>demo-1668825955</td>\n",
       "      <td>sentiment</td>\n",
       "      <td>[neu]</td>\n",
       "    </tr>\n",
       "    <tr>\n",
       "      <th>4</th>\n",
       "      <td>567852704980017216</td>\n",
       "      <td>@united you guys suck. You delay flights but c...</td>\n",
       "      <td>demo-1668825955</td>\n",
       "      <td>sentiment</td>\n",
       "      <td>[neg]</td>\n",
       "    </tr>\n",
       "    <tr>\n",
       "      <th>5</th>\n",
       "      <td>567859601900740608</td>\n",
       "      <td>@USAirways flights keep getting delayed and Ca...</td>\n",
       "      <td>demo-1668825955</td>\n",
       "      <td>sentiment</td>\n",
       "      <td>[neg]</td>\n",
       "    </tr>\n",
       "    <tr>\n",
       "      <th>6</th>\n",
       "      <td>567860775752208384</td>\n",
       "      <td>@USAirways car services to and from the hotel,...</td>\n",
       "      <td>demo-1668825955</td>\n",
       "      <td>sentiment</td>\n",
       "      <td>[neg]</td>\n",
       "    </tr>\n",
       "    <tr>\n",
       "      <th>7</th>\n",
       "      <td>567862181208805376</td>\n",
       "      <td>@united and that plane was staying overnight a...</td>\n",
       "      <td>demo-1668825955</td>\n",
       "      <td>sentiment</td>\n",
       "      <td>[neg]</td>\n",
       "    </tr>\n",
       "    <tr>\n",
       "      <th>8</th>\n",
       "      <td>567864395264573440</td>\n",
       "      <td>@USAirways My daughter is stranded in charlott...</td>\n",
       "      <td>demo-1668825955</td>\n",
       "      <td>sentiment</td>\n",
       "      <td>[neg]</td>\n",
       "    </tr>\n",
       "  </tbody>\n",
       "</table>\n",
       "</div>"
      ],
      "text/plain": [
       "              data_id                                            content  \\\n",
       "0  567840103122509760  @USAirways UR service is so shitty. Pilot neve...   \n",
       "1  567840732305858560  @SouthwestAir Being old I will miss my connect...   \n",
       "2  567842015418978304  @united my flight was at 1 pm. Still at the ai...   \n",
       "3  567847571223388160  @SouthwestAir what's up with these delays?! Th...   \n",
       "4  567852704980017216  @united you guys suck. You delay flights but c...   \n",
       "5  567859601900740608  @USAirways flights keep getting delayed and Ca...   \n",
       "6  567860775752208384  @USAirways car services to and from the hotel,...   \n",
       "7  567862181208805376  @united and that plane was staying overnight a...   \n",
       "8  567864395264573440  @USAirways My daughter is stranded in charlott...   \n",
       "\n",
       "         annotator label_name label_value  \n",
       "0  demo-1668825955  sentiment       [neg]  \n",
       "1  demo-1668825955  sentiment       [neg]  \n",
       "2  demo-1668825955  sentiment       [neg]  \n",
       "3  demo-1668825955  sentiment       [neu]  \n",
       "4  demo-1668825955  sentiment       [neg]  \n",
       "5  demo-1668825955  sentiment       [neg]  \n",
       "6  demo-1668825955  sentiment       [neg]  \n",
       "7  demo-1668825955  sentiment       [neg]  \n",
       "8  demo-1668825955  sentiment       [neg]  "
      ]
     },
     "execution_count": 63,
     "metadata": {},
     "output_type": "execute_result"
    }
   ],
   "source": [
    "# exporting all annotations to csv if need to bring data out.\n",
    "demo.export()"
   ]
  },
  {
   "cell_type": "code",
   "execution_count": null,
   "id": "6bea9124",
   "metadata": {},
   "outputs": [],
   "source": []
  }
 ],
 "metadata": {
  "kernelspec": {
   "display_name": "Python 3 (ipykernel)",
   "language": "python",
   "name": "python3"
  },
  "language_info": {
   "codemirror_mode": {
    "name": "ipython",
    "version": 3
   },
   "file_extension": ".py",
   "mimetype": "text/x-python",
   "name": "python",
   "nbconvert_exporter": "python",
   "pygments_lexer": "ipython3",
   "version": "3.8.12"
  }
 },
 "nbformat": 4,
 "nbformat_minor": 5
}
