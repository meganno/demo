{
 "cells": [
  {
   "cell_type": "code",
   "execution_count": 7,
   "id": "38bc9f96",
   "metadata": {},
   "outputs": [
    {
     "name": "stdout",
     "output_type": "stream",
     "text": [
      "Collecting git+https://****@github.com/meganno/labeler-client.git\n",
      "  Cloning https://****@github.com/meganno/labeler-client.git to /private/var/folders/cq/3tgr3bys4tldx82sfkl8lyf40000gn/T/pip-req-build-crnlm9zk\n",
      "  Running command git clone -q 'https://****@github.com/meganno/labeler-client.git' /private/var/folders/cq/3tgr3bys4tldx82sfkl8lyf40000gn/T/pip-req-build-crnlm9zk\n",
      "  Resolved https://****@github.com/meganno/labeler-client.git to commit 7910567e666bd191020921113d08937f478f30d1\n",
      "Collecting labeler-ui@ git+https://github.com/meganno/labeler-ui.git@v1.0.7\n",
      "  Cloning https://github.com/meganno/labeler-ui.git (to revision v1.0.7) to /private/var/folders/cq/3tgr3bys4tldx82sfkl8lyf40000gn/T/pip-install-bh0z2ito/labeler-ui_a7963fe336974d4698f00ef1f31e7b70\n",
      "  Running command git clone -q https://github.com/meganno/labeler-ui.git /private/var/folders/cq/3tgr3bys4tldx82sfkl8lyf40000gn/T/pip-install-bh0z2ito/labeler-ui_a7963fe336974d4698f00ef1f31e7b70\n",
      "  Resolved https://github.com/meganno/labeler-ui.git to commit 0fe9953e5537b092db15a5bf3ff16ea36eccea7d\n",
      "Requirement already satisfied: requests==2.26.0 in /opt/miniconda3/envs/labeler/lib/python3.8/site-packages (from labeler-client==1.0.3) (2.26.0)\n",
      "Requirement already satisfied: urllib3==1.26.6 in /opt/miniconda3/envs/labeler/lib/python3.8/site-packages (from labeler-client==1.0.3) (1.26.6)\n",
      "Requirement already satisfied: importlib-metadata==4.12.0 in /opt/miniconda3/envs/labeler/lib/python3.8/site-packages (from labeler-client==1.0.3) (4.12.0)\n",
      "Requirement already satisfied: zipp>=0.5 in /opt/miniconda3/envs/labeler/lib/python3.8/site-packages (from importlib-metadata==4.12.0->labeler-client==1.0.3) (3.6.0)\n",
      "Requirement already satisfied: idna<4,>=2.5 in /opt/miniconda3/envs/labeler/lib/python3.8/site-packages (from requests==2.26.0->labeler-client==1.0.3) (3.3)\n",
      "Requirement already satisfied: charset-normalizer~=2.0.0 in /opt/miniconda3/envs/labeler/lib/python3.8/site-packages (from requests==2.26.0->labeler-client==1.0.3) (2.0.7)\n",
      "Requirement already satisfied: certifi>=2017.4.17 in /opt/miniconda3/envs/labeler/lib/python3.8/site-packages (from requests==2.26.0->labeler-client==1.0.3) (2021.10.8)\n",
      "Requirement already satisfied: idom==0.38.1 in /opt/miniconda3/envs/labeler/lib/python3.8/site-packages (from labeler-ui@ git+https://github.com/meganno/labeler-ui.git@v1.0.7->labeler-client==1.0.3) (0.38.1)\n",
      "Requirement already satisfied: idom-jupyter==0.7.6 in /opt/miniconda3/envs/labeler/lib/python3.8/site-packages (from labeler-ui@ git+https://github.com/meganno/labeler-ui.git@v1.0.7->labeler-client==1.0.3) (0.7.6)\n",
      "Requirement already satisfied: varname==0.8.1 in /opt/miniconda3/envs/labeler/lib/python3.8/site-packages (from labeler-ui@ git+https://github.com/meganno/labeler-ui.git@v1.0.7->labeler-client==1.0.3) (0.8.1)\n",
      "Requirement already satisfied: jsonpatch>=1.32 in /opt/miniconda3/envs/labeler/lib/python3.8/site-packages (from idom==0.38.1->labeler-ui@ git+https://github.com/meganno/labeler-ui.git@v1.0.7->labeler-client==1.0.3) (1.32)\n",
      "Requirement already satisfied: mypy-extensions>=0.4.3 in /opt/miniconda3/envs/labeler/lib/python3.8/site-packages (from idom==0.38.1->labeler-ui@ git+https://github.com/meganno/labeler-ui.git@v1.0.7->labeler-client==1.0.3) (0.4.3)\n",
      "Requirement already satisfied: fastjsonschema>=2.14.5 in /opt/miniconda3/envs/labeler/lib/python3.8/site-packages (from idom==0.38.1->labeler-ui@ git+https://github.com/meganno/labeler-ui.git@v1.0.7->labeler-client==1.0.3) (2.15.1)\n",
      "Requirement already satisfied: anyio>=3 in /opt/miniconda3/envs/labeler/lib/python3.8/site-packages (from idom==0.38.1->labeler-ui@ git+https://github.com/meganno/labeler-ui.git@v1.0.7->labeler-client==1.0.3) (3.4.0)\n",
      "Requirement already satisfied: colorlog>=6 in /opt/miniconda3/envs/labeler/lib/python3.8/site-packages (from idom==0.38.1->labeler-ui@ git+https://github.com/meganno/labeler-ui.git@v1.0.7->labeler-client==1.0.3) (6.6.0)\n",
      "Requirement already satisfied: typing-extensions>=3.10 in /opt/miniconda3/envs/labeler/lib/python3.8/site-packages (from idom==0.38.1->labeler-ui@ git+https://github.com/meganno/labeler-ui.git@v1.0.7->labeler-client==1.0.3) (3.10.0.2)\n",
      "Requirement already satisfied: ipywidgets>=7.6.0 in /opt/miniconda3/envs/labeler/lib/python3.8/site-packages (from idom-jupyter==0.7.6->labeler-ui@ git+https://github.com/meganno/labeler-ui.git@v1.0.7->labeler-client==1.0.3) (7.6.5)\n",
      "Requirement already satisfied: appdirs in /opt/miniconda3/envs/labeler/lib/python3.8/site-packages (from idom-jupyter==0.7.6->labeler-ui@ git+https://github.com/meganno/labeler-ui.git@v1.0.7->labeler-client==1.0.3) (1.4.4)\n",
      "Requirement already satisfied: executing in /opt/miniconda3/envs/labeler/lib/python3.8/site-packages (from varname==0.8.1->labeler-ui@ git+https://github.com/meganno/labeler-ui.git@v1.0.7->labeler-client==1.0.3) (0.8.3)\n",
      "Requirement already satisfied: asttokens<3.0.0,>=2.0.0 in /opt/miniconda3/envs/labeler/lib/python3.8/site-packages (from varname==0.8.1->labeler-ui@ git+https://github.com/meganno/labeler-ui.git@v1.0.7->labeler-client==1.0.3) (2.0.5)\n",
      "Requirement already satisfied: pure_eval<1.0.0 in /opt/miniconda3/envs/labeler/lib/python3.8/site-packages (from varname==0.8.1->labeler-ui@ git+https://github.com/meganno/labeler-ui.git@v1.0.7->labeler-client==1.0.3) (0.2.2)\n",
      "Requirement already satisfied: sniffio>=1.1 in /opt/miniconda3/envs/labeler/lib/python3.8/site-packages (from anyio>=3->idom==0.38.1->labeler-ui@ git+https://github.com/meganno/labeler-ui.git@v1.0.7->labeler-client==1.0.3) (1.2.0)\n",
      "Requirement already satisfied: six in /opt/miniconda3/envs/labeler/lib/python3.8/site-packages (from asttokens<3.0.0,>=2.0.0->varname==0.8.1->labeler-ui@ git+https://github.com/meganno/labeler-ui.git@v1.0.7->labeler-client==1.0.3) (1.16.0)\n",
      "Requirement already satisfied: traitlets>=4.3.1 in /opt/miniconda3/envs/labeler/lib/python3.8/site-packages (from ipywidgets>=7.6.0->idom-jupyter==0.7.6->labeler-ui@ git+https://github.com/meganno/labeler-ui.git@v1.0.7->labeler-client==1.0.3) (5.1.1)\n",
      "Requirement already satisfied: ipykernel>=4.5.1 in /opt/miniconda3/envs/labeler/lib/python3.8/site-packages (from ipywidgets>=7.6.0->idom-jupyter==0.7.6->labeler-ui@ git+https://github.com/meganno/labeler-ui.git@v1.0.7->labeler-client==1.0.3) (6.5.1)\n",
      "Requirement already satisfied: ipython>=4.0.0 in /opt/miniconda3/envs/labeler/lib/python3.8/site-packages (from ipywidgets>=7.6.0->idom-jupyter==0.7.6->labeler-ui@ git+https://github.com/meganno/labeler-ui.git@v1.0.7->labeler-client==1.0.3) (7.29.0)\n",
      "Requirement already satisfied: jupyterlab-widgets>=1.0.0 in /opt/miniconda3/envs/labeler/lib/python3.8/site-packages (from ipywidgets>=7.6.0->idom-jupyter==0.7.6->labeler-ui@ git+https://github.com/meganno/labeler-ui.git@v1.0.7->labeler-client==1.0.3) (1.0.2)\n",
      "Requirement already satisfied: widgetsnbextension~=3.5.0 in /opt/miniconda3/envs/labeler/lib/python3.8/site-packages (from ipywidgets>=7.6.0->idom-jupyter==0.7.6->labeler-ui@ git+https://github.com/meganno/labeler-ui.git@v1.0.7->labeler-client==1.0.3) (3.5.2)\n",
      "Requirement already satisfied: ipython-genutils~=0.2.0 in /opt/miniconda3/envs/labeler/lib/python3.8/site-packages (from ipywidgets>=7.6.0->idom-jupyter==0.7.6->labeler-ui@ git+https://github.com/meganno/labeler-ui.git@v1.0.7->labeler-client==1.0.3) (0.2.0)\n",
      "Requirement already satisfied: nbformat>=4.2.0 in /opt/miniconda3/envs/labeler/lib/python3.8/site-packages (from ipywidgets>=7.6.0->idom-jupyter==0.7.6->labeler-ui@ git+https://github.com/meganno/labeler-ui.git@v1.0.7->labeler-client==1.0.3) (5.1.3)\n",
      "Requirement already satisfied: debugpy<2.0,>=1.0.0 in /opt/miniconda3/envs/labeler/lib/python3.8/site-packages (from ipykernel>=4.5.1->ipywidgets>=7.6.0->idom-jupyter==0.7.6->labeler-ui@ git+https://github.com/meganno/labeler-ui.git@v1.0.7->labeler-client==1.0.3) (1.5.1)\n",
      "Requirement already satisfied: appnope in /opt/miniconda3/envs/labeler/lib/python3.8/site-packages (from ipykernel>=4.5.1->ipywidgets>=7.6.0->idom-jupyter==0.7.6->labeler-ui@ git+https://github.com/meganno/labeler-ui.git@v1.0.7->labeler-client==1.0.3) (0.1.2)\n",
      "Requirement already satisfied: tornado<7.0,>=4.2 in /opt/miniconda3/envs/labeler/lib/python3.8/site-packages (from ipykernel>=4.5.1->ipywidgets>=7.6.0->idom-jupyter==0.7.6->labeler-ui@ git+https://github.com/meganno/labeler-ui.git@v1.0.7->labeler-client==1.0.3) (6.1)\n",
      "Requirement already satisfied: matplotlib-inline<0.2.0,>=0.1.0 in /opt/miniconda3/envs/labeler/lib/python3.8/site-packages (from ipykernel>=4.5.1->ipywidgets>=7.6.0->idom-jupyter==0.7.6->labeler-ui@ git+https://github.com/meganno/labeler-ui.git@v1.0.7->labeler-client==1.0.3) (0.1.3)\n",
      "Requirement already satisfied: jupyter-client<8.0 in /opt/miniconda3/envs/labeler/lib/python3.8/site-packages (from ipykernel>=4.5.1->ipywidgets>=7.6.0->idom-jupyter==0.7.6->labeler-ui@ git+https://github.com/meganno/labeler-ui.git@v1.0.7->labeler-client==1.0.3) (7.1.0)\n"
     ]
    },
    {
     "name": "stdout",
     "output_type": "stream",
     "text": [
      "Requirement already satisfied: jedi>=0.16 in /opt/miniconda3/envs/labeler/lib/python3.8/site-packages (from ipython>=4.0.0->ipywidgets>=7.6.0->idom-jupyter==0.7.6->labeler-ui@ git+https://github.com/meganno/labeler-ui.git@v1.0.7->labeler-client==1.0.3) (0.18.1)\n",
      "Requirement already satisfied: pygments in /opt/miniconda3/envs/labeler/lib/python3.8/site-packages (from ipython>=4.0.0->ipywidgets>=7.6.0->idom-jupyter==0.7.6->labeler-ui@ git+https://github.com/meganno/labeler-ui.git@v1.0.7->labeler-client==1.0.3) (2.10.0)\n",
      "Requirement already satisfied: prompt-toolkit!=3.0.0,!=3.0.1,<3.1.0,>=2.0.0 in /opt/miniconda3/envs/labeler/lib/python3.8/site-packages (from ipython>=4.0.0->ipywidgets>=7.6.0->idom-jupyter==0.7.6->labeler-ui@ git+https://github.com/meganno/labeler-ui.git@v1.0.7->labeler-client==1.0.3) (3.0.22)\n",
      "Requirement already satisfied: backcall in /opt/miniconda3/envs/labeler/lib/python3.8/site-packages (from ipython>=4.0.0->ipywidgets>=7.6.0->idom-jupyter==0.7.6->labeler-ui@ git+https://github.com/meganno/labeler-ui.git@v1.0.7->labeler-client==1.0.3) (0.2.0)\n",
      "Requirement already satisfied: setuptools>=18.5 in /opt/miniconda3/envs/labeler/lib/python3.8/site-packages (from ipython>=4.0.0->ipywidgets>=7.6.0->idom-jupyter==0.7.6->labeler-ui@ git+https://github.com/meganno/labeler-ui.git@v1.0.7->labeler-client==1.0.3) (58.0.4)\n",
      "Requirement already satisfied: pexpect>4.3 in /opt/miniconda3/envs/labeler/lib/python3.8/site-packages (from ipython>=4.0.0->ipywidgets>=7.6.0->idom-jupyter==0.7.6->labeler-ui@ git+https://github.com/meganno/labeler-ui.git@v1.0.7->labeler-client==1.0.3) (4.8.0)\n",
      "Requirement already satisfied: decorator in /opt/miniconda3/envs/labeler/lib/python3.8/site-packages (from ipython>=4.0.0->ipywidgets>=7.6.0->idom-jupyter==0.7.6->labeler-ui@ git+https://github.com/meganno/labeler-ui.git@v1.0.7->labeler-client==1.0.3) (5.1.0)\n",
      "Requirement already satisfied: pickleshare in /opt/miniconda3/envs/labeler/lib/python3.8/site-packages (from ipython>=4.0.0->ipywidgets>=7.6.0->idom-jupyter==0.7.6->labeler-ui@ git+https://github.com/meganno/labeler-ui.git@v1.0.7->labeler-client==1.0.3) (0.7.5)\n",
      "Requirement already satisfied: parso<0.9.0,>=0.8.0 in /opt/miniconda3/envs/labeler/lib/python3.8/site-packages (from jedi>=0.16->ipython>=4.0.0->ipywidgets>=7.6.0->idom-jupyter==0.7.6->labeler-ui@ git+https://github.com/meganno/labeler-ui.git@v1.0.7->labeler-client==1.0.3) (0.8.2)\n",
      "Requirement already satisfied: jsonpointer>=1.9 in /opt/miniconda3/envs/labeler/lib/python3.8/site-packages (from jsonpatch>=1.32->idom==0.38.1->labeler-ui@ git+https://github.com/meganno/labeler-ui.git@v1.0.7->labeler-client==1.0.3) (2.2)\n",
      "Requirement already satisfied: entrypoints in /opt/miniconda3/envs/labeler/lib/python3.8/site-packages (from jupyter-client<8.0->ipykernel>=4.5.1->ipywidgets>=7.6.0->idom-jupyter==0.7.6->labeler-ui@ git+https://github.com/meganno/labeler-ui.git@v1.0.7->labeler-client==1.0.3) (0.3)\n",
      "Requirement already satisfied: jupyter-core>=4.6.0 in /opt/miniconda3/envs/labeler/lib/python3.8/site-packages (from jupyter-client<8.0->ipykernel>=4.5.1->ipywidgets>=7.6.0->idom-jupyter==0.7.6->labeler-ui@ git+https://github.com/meganno/labeler-ui.git@v1.0.7->labeler-client==1.0.3) (4.9.1)\n",
      "Requirement already satisfied: pyzmq>=13 in /opt/miniconda3/envs/labeler/lib/python3.8/site-packages (from jupyter-client<8.0->ipykernel>=4.5.1->ipywidgets>=7.6.0->idom-jupyter==0.7.6->labeler-ui@ git+https://github.com/meganno/labeler-ui.git@v1.0.7->labeler-client==1.0.3) (22.3.0)\n",
      "Requirement already satisfied: nest-asyncio>=1.5 in /opt/miniconda3/envs/labeler/lib/python3.8/site-packages (from jupyter-client<8.0->ipykernel>=4.5.1->ipywidgets>=7.6.0->idom-jupyter==0.7.6->labeler-ui@ git+https://github.com/meganno/labeler-ui.git@v1.0.7->labeler-client==1.0.3) (1.5.1)\n",
      "Requirement already satisfied: python-dateutil>=2.1 in /opt/miniconda3/envs/labeler/lib/python3.8/site-packages (from jupyter-client<8.0->ipykernel>=4.5.1->ipywidgets>=7.6.0->idom-jupyter==0.7.6->labeler-ui@ git+https://github.com/meganno/labeler-ui.git@v1.0.7->labeler-client==1.0.3) (2.8.2)\n",
      "Requirement already satisfied: jsonschema!=2.5.0,>=2.4 in /opt/miniconda3/envs/labeler/lib/python3.8/site-packages (from nbformat>=4.2.0->ipywidgets>=7.6.0->idom-jupyter==0.7.6->labeler-ui@ git+https://github.com/meganno/labeler-ui.git@v1.0.7->labeler-client==1.0.3) (4.2.1)\n",
      "Requirement already satisfied: importlib-resources>=1.4.0 in /opt/miniconda3/envs/labeler/lib/python3.8/site-packages (from jsonschema!=2.5.0,>=2.4->nbformat>=4.2.0->ipywidgets>=7.6.0->idom-jupyter==0.7.6->labeler-ui@ git+https://github.com/meganno/labeler-ui.git@v1.0.7->labeler-client==1.0.3) (5.4.0)\n",
      "Requirement already satisfied: pyrsistent!=0.17.0,!=0.17.1,!=0.17.2,>=0.14.0 in /opt/miniconda3/envs/labeler/lib/python3.8/site-packages (from jsonschema!=2.5.0,>=2.4->nbformat>=4.2.0->ipywidgets>=7.6.0->idom-jupyter==0.7.6->labeler-ui@ git+https://github.com/meganno/labeler-ui.git@v1.0.7->labeler-client==1.0.3) (0.18.0)\n",
      "Requirement already satisfied: attrs>=17.4.0 in /opt/miniconda3/envs/labeler/lib/python3.8/site-packages (from jsonschema!=2.5.0,>=2.4->nbformat>=4.2.0->ipywidgets>=7.6.0->idom-jupyter==0.7.6->labeler-ui@ git+https://github.com/meganno/labeler-ui.git@v1.0.7->labeler-client==1.0.3) (21.2.0)\n",
      "Requirement already satisfied: ptyprocess>=0.5 in /opt/miniconda3/envs/labeler/lib/python3.8/site-packages (from pexpect>4.3->ipython>=4.0.0->ipywidgets>=7.6.0->idom-jupyter==0.7.6->labeler-ui@ git+https://github.com/meganno/labeler-ui.git@v1.0.7->labeler-client==1.0.3) (0.7.0)\n",
      "Requirement already satisfied: wcwidth in /opt/miniconda3/envs/labeler/lib/python3.8/site-packages (from prompt-toolkit!=3.0.0,!=3.0.1,<3.1.0,>=2.0.0->ipython>=4.0.0->ipywidgets>=7.6.0->idom-jupyter==0.7.6->labeler-ui@ git+https://github.com/meganno/labeler-ui.git@v1.0.7->labeler-client==1.0.3) (0.2.5)\n",
      "Requirement already satisfied: notebook>=4.4.1 in /opt/miniconda3/envs/labeler/lib/python3.8/site-packages (from widgetsnbextension~=3.5.0->ipywidgets>=7.6.0->idom-jupyter==0.7.6->labeler-ui@ git+https://github.com/meganno/labeler-ui.git@v1.0.7->labeler-client==1.0.3) (6.4.6)\n",
      "Requirement already satisfied: prometheus-client in /opt/miniconda3/envs/labeler/lib/python3.8/site-packages (from notebook>=4.4.1->widgetsnbextension~=3.5.0->ipywidgets>=7.6.0->idom-jupyter==0.7.6->labeler-ui@ git+https://github.com/meganno/labeler-ui.git@v1.0.7->labeler-client==1.0.3) (0.12.0)\n",
      "Requirement already satisfied: nbconvert in /opt/miniconda3/envs/labeler/lib/python3.8/site-packages (from notebook>=4.4.1->widgetsnbextension~=3.5.0->ipywidgets>=7.6.0->idom-jupyter==0.7.6->labeler-ui@ git+https://github.com/meganno/labeler-ui.git@v1.0.7->labeler-client==1.0.3) (6.3.0)\n",
      "Requirement already satisfied: terminado>=0.8.3 in /opt/miniconda3/envs/labeler/lib/python3.8/site-packages (from notebook>=4.4.1->widgetsnbextension~=3.5.0->ipywidgets>=7.6.0->idom-jupyter==0.7.6->labeler-ui@ git+https://github.com/meganno/labeler-ui.git@v1.0.7->labeler-client==1.0.3) (0.12.1)\n",
      "Requirement already satisfied: Send2Trash>=1.8.0 in /opt/miniconda3/envs/labeler/lib/python3.8/site-packages (from notebook>=4.4.1->widgetsnbextension~=3.5.0->ipywidgets>=7.6.0->idom-jupyter==0.7.6->labeler-ui@ git+https://github.com/meganno/labeler-ui.git@v1.0.7->labeler-client==1.0.3) (1.8.0)\n",
      "Requirement already satisfied: argon2-cffi in /opt/miniconda3/envs/labeler/lib/python3.8/site-packages (from notebook>=4.4.1->widgetsnbextension~=3.5.0->ipywidgets>=7.6.0->idom-jupyter==0.7.6->labeler-ui@ git+https://github.com/meganno/labeler-ui.git@v1.0.7->labeler-client==1.0.3) (21.1.0)\n",
      "Requirement already satisfied: jinja2 in /opt/miniconda3/envs/labeler/lib/python3.8/site-packages (from notebook>=4.4.1->widgetsnbextension~=3.5.0->ipywidgets>=7.6.0->idom-jupyter==0.7.6->labeler-ui@ git+https://github.com/meganno/labeler-ui.git@v1.0.7->labeler-client==1.0.3) (3.0.3)\n",
      "Requirement already satisfied: cffi>=1.0.0 in /opt/miniconda3/envs/labeler/lib/python3.8/site-packages (from argon2-cffi->notebook>=4.4.1->widgetsnbextension~=3.5.0->ipywidgets>=7.6.0->idom-jupyter==0.7.6->labeler-ui@ git+https://github.com/meganno/labeler-ui.git@v1.0.7->labeler-client==1.0.3) (1.15.0)\n",
      "Requirement already satisfied: pycparser in /opt/miniconda3/envs/labeler/lib/python3.8/site-packages (from cffi>=1.0.0->argon2-cffi->notebook>=4.4.1->widgetsnbextension~=3.5.0->ipywidgets>=7.6.0->idom-jupyter==0.7.6->labeler-ui@ git+https://github.com/meganno/labeler-ui.git@v1.0.7->labeler-client==1.0.3) (2.21)\n"
     ]
    },
    {
     "name": "stdout",
     "output_type": "stream",
     "text": [
      "Requirement already satisfied: MarkupSafe>=2.0 in /opt/miniconda3/envs/labeler/lib/python3.8/site-packages (from jinja2->notebook>=4.4.1->widgetsnbextension~=3.5.0->ipywidgets>=7.6.0->idom-jupyter==0.7.6->labeler-ui@ git+https://github.com/meganno/labeler-ui.git@v1.0.7->labeler-client==1.0.3) (2.0.1)\n",
      "Requirement already satisfied: mistune<2,>=0.8.1 in /opt/miniconda3/envs/labeler/lib/python3.8/site-packages (from nbconvert->notebook>=4.4.1->widgetsnbextension~=3.5.0->ipywidgets>=7.6.0->idom-jupyter==0.7.6->labeler-ui@ git+https://github.com/meganno/labeler-ui.git@v1.0.7->labeler-client==1.0.3) (0.8.4)\n",
      "Requirement already satisfied: nbclient<0.6.0,>=0.5.0 in /opt/miniconda3/envs/labeler/lib/python3.8/site-packages (from nbconvert->notebook>=4.4.1->widgetsnbextension~=3.5.0->ipywidgets>=7.6.0->idom-jupyter==0.7.6->labeler-ui@ git+https://github.com/meganno/labeler-ui.git@v1.0.7->labeler-client==1.0.3) (0.5.9)\n",
      "Requirement already satisfied: pandocfilters>=1.4.1 in /opt/miniconda3/envs/labeler/lib/python3.8/site-packages (from nbconvert->notebook>=4.4.1->widgetsnbextension~=3.5.0->ipywidgets>=7.6.0->idom-jupyter==0.7.6->labeler-ui@ git+https://github.com/meganno/labeler-ui.git@v1.0.7->labeler-client==1.0.3) (1.5.0)\n",
      "Requirement already satisfied: bleach in /opt/miniconda3/envs/labeler/lib/python3.8/site-packages (from nbconvert->notebook>=4.4.1->widgetsnbextension~=3.5.0->ipywidgets>=7.6.0->idom-jupyter==0.7.6->labeler-ui@ git+https://github.com/meganno/labeler-ui.git@v1.0.7->labeler-client==1.0.3) (4.1.0)\n",
      "Requirement already satisfied: defusedxml in /opt/miniconda3/envs/labeler/lib/python3.8/site-packages (from nbconvert->notebook>=4.4.1->widgetsnbextension~=3.5.0->ipywidgets>=7.6.0->idom-jupyter==0.7.6->labeler-ui@ git+https://github.com/meganno/labeler-ui.git@v1.0.7->labeler-client==1.0.3) (0.7.1)\n",
      "Requirement already satisfied: jupyterlab-pygments in /opt/miniconda3/envs/labeler/lib/python3.8/site-packages (from nbconvert->notebook>=4.4.1->widgetsnbextension~=3.5.0->ipywidgets>=7.6.0->idom-jupyter==0.7.6->labeler-ui@ git+https://github.com/meganno/labeler-ui.git@v1.0.7->labeler-client==1.0.3) (0.1.2)\n",
      "Requirement already satisfied: testpath in /opt/miniconda3/envs/labeler/lib/python3.8/site-packages (from nbconvert->notebook>=4.4.1->widgetsnbextension~=3.5.0->ipywidgets>=7.6.0->idom-jupyter==0.7.6->labeler-ui@ git+https://github.com/meganno/labeler-ui.git@v1.0.7->labeler-client==1.0.3) (0.5.0)\n",
      "Requirement already satisfied: webencodings in /opt/miniconda3/envs/labeler/lib/python3.8/site-packages (from bleach->nbconvert->notebook>=4.4.1->widgetsnbextension~=3.5.0->ipywidgets>=7.6.0->idom-jupyter==0.7.6->labeler-ui@ git+https://github.com/meganno/labeler-ui.git@v1.0.7->labeler-client==1.0.3) (0.5.1)\n",
      "Requirement already satisfied: packaging in /opt/miniconda3/envs/labeler/lib/python3.8/site-packages (from bleach->nbconvert->notebook>=4.4.1->widgetsnbextension~=3.5.0->ipywidgets>=7.6.0->idom-jupyter==0.7.6->labeler-ui@ git+https://github.com/meganno/labeler-ui.git@v1.0.7->labeler-client==1.0.3) (21.3)\n",
      "Requirement already satisfied: pyparsing!=3.0.5,>=2.0.2 in /opt/miniconda3/envs/labeler/lib/python3.8/site-packages (from packaging->bleach->nbconvert->notebook>=4.4.1->widgetsnbextension~=3.5.0->ipywidgets>=7.6.0->idom-jupyter==0.7.6->labeler-ui@ git+https://github.com/meganno/labeler-ui.git@v1.0.7->labeler-client==1.0.3) (3.0.6)\n",
      "Building wheels for collected packages: labeler-client\n",
      "  Building wheel for labeler-client (setup.py) ... \u001b[?25ldone\n",
      "\u001b[?25h  Created wheel for labeler-client: filename=labeler_client-1.0.3-py3-none-any.whl size=9556 sha256=573df2779ea1dd34f2bd51dd2db92b1e774f91f43c9fd32da471706eee50193a\n",
      "  Stored in directory: /private/var/folders/cq/3tgr3bys4tldx82sfkl8lyf40000gn/T/pip-ephem-wheel-cache-0hl3gpej/wheels/6c/1c/5d/dde70056f4db695746e01e2ee256885d33786751341529dce8\n",
      "Successfully built labeler-client\n",
      "Installing collected packages: labeler-client\n",
      "  Attempting uninstall: labeler-client\n",
      "    Found existing installation: labeler-client 1.0.2\n",
      "    Uninstalling labeler-client-1.0.2:\n",
      "      Successfully uninstalled labeler-client-1.0.2\n",
      "Successfully installed labeler-client-1.0.3\n"
     ]
    }
   ],
   "source": [
    "! pip install git+https://git@github.com/meganno/labeler-client.git"
   ]
  },
  {
   "cell_type": "code",
   "execution_count": 8,
   "id": "ce65a890",
   "metadata": {},
   "outputs": [
    {
     "name": "stdout",
     "output_type": "stream",
     "text": [
      "labeler-ui: 1.0.7\n",
      "labeler-client: 1.0.3\n"
     ]
    }
   ],
   "source": [
    "from labeler_ui import Authentication, Dashboard\n",
    "from labeler_client import Service\n",
    "import pandas as pd\n",
    "import os"
   ]
  },
  {
   "cell_type": "code",
   "execution_count": 9,
   "id": "1ab11a26",
   "metadata": {},
   "outputs": [
    {
     "data": {
      "text/plain": [
       "show(7fd7160fd280, self=<labeler_ui.widgets.Authentication.Authentication object at 0x7fd713f8fb50>)"
      ]
     },
     "execution_count": 9,
     "metadata": {},
     "output_type": "execute_result"
    },
    {
     "data": {
      "application/vnd.jupyter.widget-view+json": {
       "model_id": "7e0f772b1fa247f4b480c9044e665a6c",
       "version_major": 2,
       "version_minor": 0
      },
      "text/plain": [
       "LayoutWidget(Layout(show(7fd7160fd280, self=<labeler_ui.widgets.Authentication.Authentication object at 0x7fd7…"
      ]
     },
     "metadata": {},
     "output_type": "display_data"
    }
   ],
   "source": [
    "auth = Authentication() \n",
    "auth.show()"
   ]
  },
  {
   "cell_type": "code",
   "execution_count": 25,
   "id": "d26d90ef",
   "metadata": {},
   "outputs": [],
   "source": [
    "# connecting with auth object, need to re-authenticate every 60 mins\n",
    "demo2 = Service(project='demo',auth=auth, host='http://labeler-demo-service-alb-1400746965.us-west-1.elb.amazonaws.com')"
   ]
  },
  {
   "cell_type": "code",
   "execution_count": null,
   "id": "03a9e295",
   "metadata": {},
   "outputs": [],
   "source": []
  },
  {
   "cell_type": "code",
   "execution_count": 12,
   "id": "93c6bc11",
   "metadata": {},
   "outputs": [],
   "source": [
    "demo_token = 'gAAAAABjeENjt6K24nbrDRqkRRxDpguuplceq9bPHDmHQkKD_-qUt7mYef9SsBrWaRvsGwnVYTe7FjPieS8Msqqq8eNXvXLVYz3bSWjtXlJNFUX0q9Wu4PfujPe5mQBPFMdpjb4opJYDNpV2d0JGF981WSU1twFJFxlntu4AJlZNxwfEFW3DRcoYnOddTkVP1Gdq0cOBOrVjGHsjeIeTP1KVsCNFcfM3__Dt5HvPRW9HXndBCyDXyedA5Z4N1iCqsWMd2nJQpzLJ'"
   ]
  },
  {
   "cell_type": "code",
   "execution_count": 31,
   "id": "6036a712",
   "metadata": {},
   "outputs": [
    {
     "data": {
      "text/plain": [
       "[{'active': True,\n",
       "  'created_on': 1670394460695,\n",
       "  'schemas': {'label_schema': [{'level': 'record',\n",
       "     'name': 'sentiment',\n",
       "     'options': [{'text': 'positive', 'value': 'pos'},\n",
       "      {'text': 'negative', 'value': 'neg'}]}]},\n",
       "  'uuid': '09ebf279-8d56-455a-97c7-0facdeff0d4c'}]"
      ]
     },
     "execution_count": 31,
     "metadata": {},
     "output_type": "execute_result"
    }
   ],
   "source": [
    "demo2.get_schemas().value(active=True)"
   ]
  },
  {
   "cell_type": "code",
   "execution_count": 27,
   "id": "bf779703",
   "metadata": {},
   "outputs": [],
   "source": []
  },
  {
   "cell_type": "code",
   "execution_count": 28,
   "id": "009848fe",
   "metadata": {},
   "outputs": [
    {
     "data": {
      "text/plain": [
       "[{'active': True,\n",
       "  'created_on': 1670394460695,\n",
       "  'schemas': {'label_schema': [{'level': 'record',\n",
       "     'name': 'sentiment',\n",
       "     'options': [{'text': 'positive', 'value': 'pos'},\n",
       "      {'text': 'negative', 'value': 'neg'}]}]},\n",
       "  'uuid': '09ebf279-8d56-455a-97c7-0facdeff0d4c'}]"
      ]
     },
     "execution_count": 28,
     "metadata": {},
     "output_type": "execute_result"
    }
   ],
   "source": [
    "demo2.get_schemas().set_schemas({\n",
    "    'label_schema': [\n",
    "        {\n",
    "            \"name\": \"sentiment\",\n",
    "            \"level\": \"record\", \n",
    "            \"options\": [\n",
    "                { \"value\": \"pos\", \"text\": \"positive\" },\n",
    "                { \"value\": \"neg\", \"text\": \"negative\" },\n",
    "            ]\n",
    "        }\n",
    "    ]\n",
    "})\n",
    "demo2.get_schemas().value(active=True)"
   ]
  },
  {
   "cell_type": "code",
   "execution_count": 19,
   "id": "def88592",
   "metadata": {},
   "outputs": [
    {
     "data": {
      "text/html": [
       "<div>\n",
       "<style scoped>\n",
       "    .dataframe tbody tr th:only-of-type {\n",
       "        vertical-align: middle;\n",
       "    }\n",
       "\n",
       "    .dataframe tbody tr th {\n",
       "        vertical-align: top;\n",
       "    }\n",
       "\n",
       "    .dataframe thead th {\n",
       "        text-align: right;\n",
       "    }\n",
       "</style>\n",
       "<table border=\"1\" class=\"dataframe\">\n",
       "  <thead>\n",
       "    <tr style=\"text-align: right;\">\n",
       "      <th></th>\n",
       "      <th>id</th>\n",
       "      <th>content</th>\n",
       "      <th>pseudo_label</th>\n",
       "    </tr>\n",
       "  </thead>\n",
       "  <tbody>\n",
       "    <tr>\n",
       "      <th>0</th>\n",
       "      <td>5.678722e+17</td>\n",
       "      <td>@united how else would I know it was denied?</td>\n",
       "      <td>neg</td>\n",
       "    </tr>\n",
       "    <tr>\n",
       "      <th>1</th>\n",
       "      <td>5.678721e+17</td>\n",
       "      <td>@united obviously</td>\n",
       "      <td>neu</td>\n",
       "    </tr>\n",
       "    <tr>\n",
       "      <th>2</th>\n",
       "      <td>5.678721e+17</td>\n",
       "      <td>@JetBlue my SIL bought tix for us to NYC. We w...</td>\n",
       "      <td>neg</td>\n",
       "    </tr>\n",
       "    <tr>\n",
       "      <th>3</th>\n",
       "      <td>5.678720e+17</td>\n",
       "      <td>@JetBlue dispatcher keeps yelling and hung up ...</td>\n",
       "      <td>neg</td>\n",
       "    </tr>\n",
       "    <tr>\n",
       "      <th>4</th>\n",
       "      <td>5.678719e+17</td>\n",
       "      <td>@JetBlue now when I call it's still at the war...</td>\n",
       "      <td>neg</td>\n",
       "    </tr>\n",
       "    <tr>\n",
       "      <th>...</th>\n",
       "      <td>...</td>\n",
       "      <td>...</td>\n",
       "      <td>...</td>\n",
       "    </tr>\n",
       "    <tr>\n",
       "      <th>196</th>\n",
       "      <td>5.678382e+17</td>\n",
       "      <td>@SouthwestAir Not your finest moment in Boston...</td>\n",
       "      <td>neg</td>\n",
       "    </tr>\n",
       "    <tr>\n",
       "      <th>197</th>\n",
       "      <td>5.678377e+17</td>\n",
       "      <td>@united @annricord 0162431184663.\\n3 of your a...</td>\n",
       "      <td>neg</td>\n",
       "    </tr>\n",
       "    <tr>\n",
       "      <th>198</th>\n",
       "      <td>5.678373e+17</td>\n",
       "      <td>@united if your air traffic crew could get the...</td>\n",
       "      <td>neg</td>\n",
       "    </tr>\n",
       "    <tr>\n",
       "      <th>199</th>\n",
       "      <td>5.678372e+17</td>\n",
       "      <td>@JetBlue Flight 152 (N559JB) \"Here's Looking a...</td>\n",
       "      <td>neu</td>\n",
       "    </tr>\n",
       "    <tr>\n",
       "      <th>200</th>\n",
       "      <td>5.678370e+17</td>\n",
       "      <td>@JetBlue.  Punta Cana, to enjoy weather n see ...</td>\n",
       "      <td>neu</td>\n",
       "    </tr>\n",
       "  </tbody>\n",
       "</table>\n",
       "<p>201 rows × 3 columns</p>\n",
       "</div>"
      ],
      "text/plain": [
       "               id                                            content  \\\n",
       "0    5.678722e+17       @united how else would I know it was denied?   \n",
       "1    5.678721e+17                                  @united obviously   \n",
       "2    5.678721e+17  @JetBlue my SIL bought tix for us to NYC. We w...   \n",
       "3    5.678720e+17  @JetBlue dispatcher keeps yelling and hung up ...   \n",
       "4    5.678719e+17  @JetBlue now when I call it's still at the war...   \n",
       "..            ...                                                ...   \n",
       "196  5.678382e+17  @SouthwestAir Not your finest moment in Boston...   \n",
       "197  5.678377e+17  @united @annricord 0162431184663.\\n3 of your a...   \n",
       "198  5.678373e+17  @united if your air traffic crew could get the...   \n",
       "199  5.678372e+17  @JetBlue Flight 152 (N559JB) \"Here's Looking a...   \n",
       "200  5.678370e+17  @JetBlue.  Punta Cana, to enjoy weather n see ...   \n",
       "\n",
       "    pseudo_label  \n",
       "0            neg  \n",
       "1            neu  \n",
       "2            neg  \n",
       "3            neg  \n",
       "4            neg  \n",
       "..           ...  \n",
       "196          neg  \n",
       "197          neg  \n",
       "198          neg  \n",
       "199          neu  \n",
       "200          neu  \n",
       "\n",
       "[201 rows x 3 columns]"
      ]
     },
     "execution_count": 19,
     "metadata": {},
     "output_type": "execute_result"
    }
   ],
   "source": [
    "# importing data\n",
    "df = pd.read_csv('tweets.csv').loc[:200]\n",
    "\n",
    "df"
   ]
  },
  {
   "cell_type": "code",
   "execution_count": 20,
   "id": "74033f64",
   "metadata": {},
   "outputs": [
    {
     "data": {
      "text/plain": [
       "'201 data records imported into database.'"
      ]
     },
     "execution_count": 20,
     "metadata": {},
     "output_type": "execute_result"
    }
   ],
   "source": [
    "demo2.import_data_df(df, column_mapping={'id':'id',\n",
    "                                        'content':'content'})"
   ]
  },
  {
   "cell_type": "code",
   "execution_count": 29,
   "id": "d3bb04c3",
   "metadata": {},
   "outputs": [
    {
     "data": {
      "text/plain": [
       "show(7fd714ee2b80, self=<labeler_ui.widgets.Annotation.Annotation object at 0x7fd7161cbd00>)"
      ]
     },
     "execution_count": 29,
     "metadata": {},
     "output_type": "execute_result"
    },
    {
     "data": {
      "application/vnd.jupyter.widget-view+json": {
       "model_id": "9c34dc76664d408ba8da091770dc2ecb",
       "version_major": 2,
       "version_minor": 0
      },
      "text/plain": [
       "LayoutWidget(Layout(show(7fd714ee2b80, self=<labeler_ui.widgets.Annotation.Annotation object at 0x7fd7161cbd00…"
      ]
     },
     "metadata": {},
     "output_type": "display_data"
    }
   ],
   "source": [
    "# search results => subset s1\n",
    "s1 = demo2.search(keyword='', limit=10, start=0)\n",
    "# bring up a widget \n",
    "s1.show()"
   ]
  },
  {
   "cell_type": "code",
   "execution_count": null,
   "id": "70788870",
   "metadata": {},
   "outputs": [],
   "source": []
  }
 ],
 "metadata": {
  "kernelspec": {
   "display_name": "Python 3 (ipykernel)",
   "language": "python",
   "name": "python3"
  },
  "language_info": {
   "codemirror_mode": {
    "name": "ipython",
    "version": 3
   },
   "file_extension": ".py",
   "mimetype": "text/x-python",
   "name": "python",
   "nbconvert_exporter": "python",
   "pygments_lexer": "ipython3",
   "version": "3.8.12"
  }
 },
 "nbformat": 4,
 "nbformat_minor": 5
}
