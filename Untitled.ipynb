{
 "cells": [
  {
   "cell_type": "code",
   "execution_count": 8,
   "id": "ce65a890",
   "metadata": {},
   "outputs": [
    {
     "name": "stdout",
     "output_type": "stream",
     "text": [
      "labeler-ui: 1.0.7\n",
      "labeler-client: 1.0.3\n"
     ]
    }
   ],
   "source": [
    "from labeler_ui import Authentication, Dashboard\n",
    "from labeler_client import Service\n",
    "import pandas as pd\n",
    "import os"
   ]
  },
  {
   "cell_type": "code",
   "execution_count": 9,
   "id": "1ab11a26",
   "metadata": {},
   "outputs": [
    {
     "data": {
      "text/plain": [
       "show(7fd7160fd280, self=<labeler_ui.widgets.Authentication.Authentication object at 0x7fd713f8fb50>)"
      ]
     },
     "execution_count": 9,
     "metadata": {},
     "output_type": "execute_result"
    },
    {
     "data": {
      "application/vnd.jupyter.widget-view+json": {
       "model_id": "7e0f772b1fa247f4b480c9044e665a6c",
       "version_major": 2,
       "version_minor": 0
      },
      "text/plain": [
       "LayoutWidget(Layout(show(7fd7160fd280, self=<labeler_ui.widgets.Authentication.Authentication object at 0x7fd7…"
      ]
     },
     "metadata": {},
     "output_type": "display_data"
    }
   ],
   "source": [
    "auth = Authentication() \n",
    "auth.show()"
   ]
  },
  {
   "cell_type": "code",
   "execution_count": 25,
   "id": "d26d90ef",
   "metadata": {},
   "outputs": [],
   "source": [
    "# connecting with auth object, need to re-authenticate every 60 mins\n",
    "demo2 = Service(project='demo',auth=auth, host='http://labeler-demo-service-alb-1400746965.us-west-1.elb.amazonaws.com')"
   ]
  },
  {
   "cell_type": "code",
   "execution_count": null,
   "id": "03a9e295",
   "metadata": {},
   "outputs": [],
   "source": []
  },
  {
   "cell_type": "code",
   "execution_count": 12,
   "id": "93c6bc11",
   "metadata": {},
   "outputs": [],
   "source": [
    "demo_token = 'gAAAAABjeENjt6K24nbrDRqkRRxDpguuplceq9bPHDmHQkKD_-qUt7mYef9SsBrWaRvsGwnVYTe7FjPieS8Msqqq8eNXvXLVYz3bSWjtXlJNFUX0q9Wu4PfujPe5mQBPFMdpjb4opJYDNpV2d0JGF981WSU1twFJFxlntu4AJlZNxwfEFW3DRcoYnOddTkVP1Gdq0cOBOrVjGHsjeIeTP1KVsCNFcfM3__Dt5HvPRW9HXndBCyDXyedA5Z4N1iCqsWMd2nJQpzLJ'"
   ]
  },
  {
   "cell_type": "code",
   "execution_count": 31,
   "id": "6036a712",
   "metadata": {},
   "outputs": [
    {
     "data": {
      "text/plain": [
       "[{'active': True,\n",
       "  'created_on': 1670394460695,\n",
       "  'schemas': {'label_schema': [{'level': 'record',\n",
       "     'name': 'sentiment',\n",
       "     'options': [{'text': 'positive', 'value': 'pos'},\n",
       "      {'text': 'negative', 'value': 'neg'}]}]},\n",
       "  'uuid': '09ebf279-8d56-455a-97c7-0facdeff0d4c'}]"
      ]
     },
     "execution_count": 31,
     "metadata": {},
     "output_type": "execute_result"
    }
   ],
   "source": [
    "demo2.get_schemas().value(active=True)"
   ]
  },
  {
   "cell_type": "code",
   "execution_count": 27,
   "id": "bf779703",
   "metadata": {},
   "outputs": [],
   "source": []
  },
  {
   "cell_type": "code",
   "execution_count": 28,
   "id": "009848fe",
   "metadata": {},
   "outputs": [
    {
     "data": {
      "text/plain": [
       "[{'active': True,\n",
       "  'created_on': 1670394460695,\n",
       "  'schemas': {'label_schema': [{'level': 'record',\n",
       "     'name': 'sentiment',\n",
       "     'options': [{'text': 'positive', 'value': 'pos'},\n",
       "      {'text': 'negative', 'value': 'neg'}]}]},\n",
       "  'uuid': '09ebf279-8d56-455a-97c7-0facdeff0d4c'}]"
      ]
     },
     "execution_count": 28,
     "metadata": {},
     "output_type": "execute_result"
    }
   ],
   "source": [
    "demo2.get_schemas().set_schemas({\n",
    "    'label_schema': [\n",
    "        {\n",
    "            \"name\": \"sentiment\",\n",
    "            \"level\": \"record\", \n",
    "            \"options\": [\n",
    "                { \"value\": \"pos\", \"text\": \"positive\" },\n",
    "                { \"value\": \"neg\", \"text\": \"negative\" },\n",
    "            ]\n",
    "        }\n",
    "    ]\n",
    "})\n",
    "demo2.get_schemas().value(active=True)"
   ]
  },
  {
   "cell_type": "code",
   "execution_count": 19,
   "id": "def88592",
   "metadata": {},
   "outputs": [
    {
     "data": {
      "text/html": [
       "<div>\n",
       "<style scoped>\n",
       "    .dataframe tbody tr th:only-of-type {\n",
       "        vertical-align: middle;\n",
       "    }\n",
       "\n",
       "    .dataframe tbody tr th {\n",
       "        vertical-align: top;\n",
       "    }\n",
       "\n",
       "    .dataframe thead th {\n",
       "        text-align: right;\n",
       "    }\n",
       "</style>\n",
       "<table border=\"1\" class=\"dataframe\">\n",
       "  <thead>\n",
       "    <tr style=\"text-align: right;\">\n",
       "      <th></th>\n",
       "      <th>id</th>\n",
       "      <th>content</th>\n",
       "      <th>pseudo_label</th>\n",
       "    </tr>\n",
       "  </thead>\n",
       "  <tbody>\n",
       "    <tr>\n",
       "      <th>0</th>\n",
       "      <td>5.678722e+17</td>\n",
       "      <td>@united how else would I know it was denied?</td>\n",
       "      <td>neg</td>\n",
       "    </tr>\n",
       "    <tr>\n",
       "      <th>1</th>\n",
       "      <td>5.678721e+17</td>\n",
       "      <td>@united obviously</td>\n",
       "      <td>neu</td>\n",
       "    </tr>\n",
       "    <tr>\n",
       "      <th>2</th>\n",
       "      <td>5.678721e+17</td>\n",
       "      <td>@JetBlue my SIL bought tix for us to NYC. We w...</td>\n",
       "      <td>neg</td>\n",
       "    </tr>\n",
       "    <tr>\n",
       "      <th>3</th>\n",
       "      <td>5.678720e+17</td>\n",
       "      <td>@JetBlue dispatcher keeps yelling and hung up ...</td>\n",
       "      <td>neg</td>\n",
       "    </tr>\n",
       "    <tr>\n",
       "      <th>4</th>\n",
       "      <td>5.678719e+17</td>\n",
       "      <td>@JetBlue now when I call it's still at the war...</td>\n",
       "      <td>neg</td>\n",
       "    </tr>\n",
       "    <tr>\n",
       "      <th>...</th>\n",
       "      <td>...</td>\n",
       "      <td>...</td>\n",
       "      <td>...</td>\n",
       "    </tr>\n",
       "    <tr>\n",
       "      <th>196</th>\n",
       "      <td>5.678382e+17</td>\n",
       "      <td>@SouthwestAir Not your finest moment in Boston...</td>\n",
       "      <td>neg</td>\n",
       "    </tr>\n",
       "    <tr>\n",
       "      <th>197</th>\n",
       "      <td>5.678377e+17</td>\n",
       "      <td>@united @annricord 0162431184663.\\n3 of your a...</td>\n",
       "      <td>neg</td>\n",
       "    </tr>\n",
       "    <tr>\n",
       "      <th>198</th>\n",
       "      <td>5.678373e+17</td>\n",
       "      <td>@united if your air traffic crew could get the...</td>\n",
       "      <td>neg</td>\n",
       "    </tr>\n",
       "    <tr>\n",
       "      <th>199</th>\n",
       "      <td>5.678372e+17</td>\n",
       "      <td>@JetBlue Flight 152 (N559JB) \"Here's Looking a...</td>\n",
       "      <td>neu</td>\n",
       "    </tr>\n",
       "    <tr>\n",
       "      <th>200</th>\n",
       "      <td>5.678370e+17</td>\n",
       "      <td>@JetBlue.  Punta Cana, to enjoy weather n see ...</td>\n",
       "      <td>neu</td>\n",
       "    </tr>\n",
       "  </tbody>\n",
       "</table>\n",
       "<p>201 rows × 3 columns</p>\n",
       "</div>"
      ],
      "text/plain": [
       "               id                                            content  \\\n",
       "0    5.678722e+17       @united how else would I know it was denied?   \n",
       "1    5.678721e+17                                  @united obviously   \n",
       "2    5.678721e+17  @JetBlue my SIL bought tix for us to NYC. We w...   \n",
       "3    5.678720e+17  @JetBlue dispatcher keeps yelling and hung up ...   \n",
       "4    5.678719e+17  @JetBlue now when I call it's still at the war...   \n",
       "..            ...                                                ...   \n",
       "196  5.678382e+17  @SouthwestAir Not your finest moment in Boston...   \n",
       "197  5.678377e+17  @united @annricord 0162431184663.\\n3 of your a...   \n",
       "198  5.678373e+17  @united if your air traffic crew could get the...   \n",
       "199  5.678372e+17  @JetBlue Flight 152 (N559JB) \"Here's Looking a...   \n",
       "200  5.678370e+17  @JetBlue.  Punta Cana, to enjoy weather n see ...   \n",
       "\n",
       "    pseudo_label  \n",
       "0            neg  \n",
       "1            neu  \n",
       "2            neg  \n",
       "3            neg  \n",
       "4            neg  \n",
       "..           ...  \n",
       "196          neg  \n",
       "197          neg  \n",
       "198          neg  \n",
       "199          neu  \n",
       "200          neu  \n",
       "\n",
       "[201 rows x 3 columns]"
      ]
     },
     "execution_count": 19,
     "metadata": {},
     "output_type": "execute_result"
    }
   ],
   "source": [
    "# importing data\n",
    "df = pd.read_csv('tweets.csv').loc[:200]\n",
    "\n",
    "df"
   ]
  },
  {
   "cell_type": "code",
   "execution_count": 20,
   "id": "74033f64",
   "metadata": {},
   "outputs": [
    {
     "data": {
      "text/plain": [
       "'201 data records imported into database.'"
      ]
     },
     "execution_count": 20,
     "metadata": {},
     "output_type": "execute_result"
    }
   ],
   "source": [
    "demo2.import_data_df(df, column_mapping={'id':'id',\n",
    "                                        'content':'content'})"
   ]
  },
  {
   "cell_type": "code",
   "execution_count": 29,
   "id": "d3bb04c3",
   "metadata": {},
   "outputs": [
    {
     "data": {
      "text/plain": [
       "show(7fd714ee2b80, self=<labeler_ui.widgets.Annotation.Annotation object at 0x7fd7161cbd00>)"
      ]
     },
     "execution_count": 29,
     "metadata": {},
     "output_type": "execute_result"
    },
    {
     "data": {
      "application/vnd.jupyter.widget-view+json": {
       "model_id": "9c34dc76664d408ba8da091770dc2ecb",
       "version_major": 2,
       "version_minor": 0
      },
      "text/plain": [
       "LayoutWidget(Layout(show(7fd714ee2b80, self=<labeler_ui.widgets.Annotation.Annotation object at 0x7fd7161cbd00…"
      ]
     },
     "metadata": {},
     "output_type": "display_data"
    }
   ],
   "source": [
    "# search results => subset s1\n",
    "s1 = demo2.search(keyword='', limit=10, start=0)\n",
    "# bring up a widget \n",
    "s1.show()"
   ]
  },
  {
   "cell_type": "code",
   "execution_count": null,
   "id": "70788870",
   "metadata": {},
   "outputs": [],
   "source": []
  }
 ],
 "metadata": {
  "kernelspec": {
   "display_name": "Python 3 (ipykernel)",
   "language": "python",
   "name": "python3"
  },
  "language_info": {
   "codemirror_mode": {
    "name": "ipython",
    "version": 3
   },
   "file_extension": ".py",
   "mimetype": "text/x-python",
   "name": "python",
   "nbconvert_exporter": "python",
   "pygments_lexer": "ipython3",
   "version": "3.8.12"
  }
 },
 "nbformat": 4,
 "nbformat_minor": 5
}
